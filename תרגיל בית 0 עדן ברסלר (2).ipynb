{
  "nbformat": 4,
  "nbformat_minor": 0,
  "metadata": {
    "colab": {
      "name": "Copy of hw1.ipynb",
      "provenance": [],
      "collapsed_sections": []
    },
    "kernelspec": {
      "name": "python3",
      "display_name": "Python 3"
    }
  },
  "cells": [
    {
      "cell_type": "markdown",
      "metadata": {
        "id": "fdo_MELJzSOS"
      },
      "source": [
        "# Assignment 1 (not for submission): logarithm and exponent"
      ]
    },
    {
      "cell_type": "code",
      "metadata": {
        "id": "pI5b-c96rt08"
      },
      "source": [
        "import math\n",
        "import matplotlib.pyplot as plt\n",
        "import numpy"
      ],
      "execution_count": 7,
      "outputs": []
    },
    {
      "cell_type": "markdown",
      "metadata": {
        "id": "KxUENdoayWM0"
      },
      "source": [
        "## Question 1: Counting permutations\n",
        "\n",
        "We are given a set of $N$ elements (e.g. books in the reading lists). We need to estimate the number of $k$-permutations, or possible orders of subsets of $K$ elements of the set, $1 \\le K \\le N$.\n",
        "\n",
        "Mathematically, the answer is by the following formula,\n",
        "\n",
        "$$P(N, K) = \\frac {N!} {(N-K)!}$$\n",
        "\n",
        "1. Write a function to compute the exact number of permutations. Compute the number of k-permutations and the running time for N=1 K=1, N=4 K=2, N=10000 K=10. \n",
        "2. Write an approximate function using $\\log$ transformation. Compare the running times.\n",
        "3. What is the absolute and relative error of computing the number of permutations for each combination of arguments?"
      ]
    },
    {
      "cell_type": "code",
      "metadata": {
        "id": "C0zheLJDgadP"
      },
      "source": [
        "def fact(n):\n",
        "  fct = 1\n",
        "  for i in range(n):\n",
        "    fct *= i+1\n",
        "  return fct\n",
        "def binom(n, k):\n",
        "  return fact(n)//fact(n - k)"
      ],
      "execution_count": 2,
      "outputs": []
    },
    {
      "cell_type": "code",
      "source": [
        "%time print(\"1 out of 1 = %d\" % binom(1, 1))\n",
        "%time print(\"3 out of 4  = %d\" % binom(4, 2))\n",
        "%time print(\"10 out of 100000 = %d\" % binom(10000, 10))"
      ],
      "metadata": {
        "id": "UKJErW9rpSbr",
        "outputId": "11463754-c85b-48a4-fb8a-c325f784c6da",
        "colab": {
          "base_uri": "https://localhost:8080/"
        }
      },
      "execution_count": 3,
      "outputs": [
        {
          "output_type": "stream",
          "name": "stdout",
          "text": [
            "1 out of 1 = 1\n",
            "CPU times: user 1.04 ms, sys: 5 µs, total: 1.05 ms\n",
            "Wall time: 1.07 ms\n",
            "3 out of 4  = 12\n",
            "CPU times: user 482 µs, sys: 0 ns, total: 482 µs\n",
            "Wall time: 488 µs\n",
            "10 out of 100000 = 9955086905563246074735627402653971200000\n",
            "CPU times: user 44.7 ms, sys: 0 ns, total: 44.7 ms\n",
            "Wall time: 44.8 ms\n"
          ]
        }
      ]
    },
    {
      "cell_type": "code",
      "source": [
        "def logfact(n):\n",
        "  logf = 0\n",
        "  for i in range(n):\n",
        "    logf += math.log(i + 1)\n",
        "  return logf\n",
        "\n",
        "def logbinom(n, k):\n",
        "  return round(math.exp(logfact(n) - logfact(n - k)))\n"
      ],
      "metadata": {
        "id": "vWEq6oUAr3ch"
      },
      "execution_count": 4,
      "outputs": []
    },
    {
      "cell_type": "code",
      "source": [
        "%time print(\"1 out of 1 = %d\" % logbinom(1, 1))\n",
        "%time print(\"3 out of 4  = %d\" % logbinom(4, 2))\n",
        "%time print(\"10 out of 100000 = %d\" % logbinom(10000, 10))"
      ],
      "metadata": {
        "id": "6Wv0aFRwva4I",
        "outputId": "cb833286-8e96-4b49-d3c8-f79634b10940",
        "colab": {
          "base_uri": "https://localhost:8080/"
        }
      },
      "execution_count": 8,
      "outputs": [
        {
          "output_type": "stream",
          "name": "stdout",
          "text": [
            "1 out of 1 = 1\n",
            "CPU times: user 1.31 ms, sys: 37 µs, total: 1.34 ms\n",
            "Wall time: 1.33 ms\n",
            "3 out of 4  = 12\n",
            "CPU times: user 489 µs, sys: 3 µs, total: 492 µs\n",
            "Wall time: 498 µs\n",
            "10 out of 100000 = 9955086905474819609919064913738870030336\n",
            "CPU times: user 5.71 ms, sys: 0 ns, total: 5.71 ms\n",
            "Wall time: 5.9 ms\n"
          ]
        }
      ]
    },
    {
      "cell_type": "code",
      "source": [
        "a = binom(10000, 10)\n",
        "b = logbinom(10000, 10)\n",
        "err = abs(a - b )\n",
        "print(f\"a={a} b={b} error = {err:6g}\")"
      ],
      "metadata": {
        "id": "fLJ8cK90xiU5",
        "outputId": "c278d313-c4d2-4453-e70f-18c493cee01a",
        "colab": {
          "base_uri": "https://localhost:8080/"
        }
      },
      "execution_count": 9,
      "outputs": [
        {
          "output_type": "stream",
          "name": "stdout",
          "text": [
            "a=9955086905563246074735627402653971200000 b=9955086905474819609919064913738870030336 error = 8.84265e+28\n"
          ]
        }
      ]
    },
    {
      "cell_type": "code",
      "source": [
        "relerr = err/a*100\n",
        "print(f\"relative error = {relerr:.8f}%\")"
      ],
      "metadata": {
        "id": "rtIynIe3x7Yo",
        "outputId": "89e676bf-c38e-41c5-daea-83f12cdad5d9",
        "colab": {
          "base_uri": "https://localhost:8080/"
        }
      },
      "execution_count": 10,
      "outputs": [
        {
          "output_type": "stream",
          "name": "stdout",
          "text": [
            "relative error = 0.00000000%\n"
          ]
        }
      ]
    },
    {
      "cell_type": "markdown",
      "metadata": {
        "id": "tum_F3Vj5sKk"
      },
      "source": [
        "## Question 2: processing data with magnitudal differences\n",
        "\n",
        "A seismic sensor measures amplitude of earthquakes in  an area of the Pacific ocean. We are given average  yearly intensities of earthquakes over 30 years. Visualize the data on natural and logarithmic scale. Does the intensity change over time?"
      ]
    },
    {
      "cell_type": "code",
      "metadata": {
        "id": "Rif_i8Tp9Hb9",
        "colab": {
          "base_uri": "https://localhost:8080/",
          "height": 513
        },
        "outputId": "27fc8aec-dcd7-4571-b8a7-733ca7049c84"
      },
      "source": [
        "import matplotlib.pyplot as plt\n",
        "import numpy as np\n",
        "\n",
        "earthquakes = [0.55,\n",
        " 29.85,\n",
        " 0.35,\n",
        " 0.03,\n",
        " 0.03,\n",
        " 0.05,\n",
        " 26.2,\n",
        " 11.71,\n",
        " 22.40,\n",
        " 0.09,\n",
        " 125.72,\n",
        " 0.01,\n",
        " 58.51,\n",
        " 0.78,\n",
        " 12.54,\n",
        " 5.38,\n",
        " 183.21,\n",
        " 12.20,\n",
        " 5572.37,\n",
        " 17.23,\n",
        " 13.68,\n",
        " 845.38,\n",
        " 1024.14,\n",
        " 765.27,\n",
        " 9.06,\n",
        " 0.78,\n",
        " 59.06,\n",
        " 175.66,\n",
        " 1570.27,\n",
        " 236.5]\n",
        "\n",
        "years = []\n",
        "for i in range(30):\n",
        "  years.append(i+1)\n",
        "\n",
        "# make the data\n",
        "x = years\n",
        "y = earthquakes\n",
        "# size and color:\n",
        "sizes = np.random.uniform(15, 80, len(x))\n",
        "colors = np.random.uniform(15, 80, len(x))\n",
        "\n",
        "# plot\n",
        "fig, ax = plt.subplots()\n",
        "\n",
        "ax.scatter(x, y, s=sizes, c=colors, vmin=0, vmax=100)\n",
        "\n",
        "ax.set(xlim=(min(x), max(x)),\n",
        "       ylim=(min(y), max(y)))\n",
        "\n",
        "plt.show()\n",
        "\n",
        "# plot\n",
        "fig, ax = plt.subplots()\n",
        "\n",
        "ax.scatter(x, np.log(y), s=sizes, c=colors, vmin=0, vmax=100)\n",
        "\n",
        "ax.set(xlim=(min(x), max(x)),\n",
        "       ylim=(min(np.log(y)), max(np.log(y))))\n",
        "\n",
        "plt.show()\n",
        "\n"
      ],
      "execution_count": 1,
      "outputs": [
        {
          "output_type": "display_data",
          "data": {
            "text/plain": [
              "<Figure size 432x288 with 1 Axes>"
            ],
            "image/png": "[encoded data removed]"
          },
          "metadata": {
            "needs_background": "light"
          }
        },
        {
          "output_type": "display_data",
          "data": {
            "text/plain": [
              "<Figure size 432x288 with 1 Axes>"
            ],
            "image/png": "[encoded data removed]"
          },
          "metadata": {
            "needs_background": "light"
          }
        }
      ]
    },
    {
      "cell_type": "code",
      "metadata": {
        "id": "qFRYSvU0f3Qg"
      },
      "source": [
        ""
      ],
      "execution_count": null,
      "outputs": []
    }
  ]
}